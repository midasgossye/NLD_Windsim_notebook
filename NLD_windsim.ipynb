{
 "cells": [
  {
   "cell_type": "code",
   "execution_count": 1,
   "metadata": {},
   "outputs": [],
   "source": [
    "import ipywidgets as widgets\n",
    "from ipywidgets import interact, interact_manual"
   ]
  },
  {
   "cell_type": "markdown",
   "metadata": {},
   "source": [
    "# NLD Windfield generator program"
   ]
  },
  {
   "cell_type": "code",
   "execution_count": 2,
   "metadata": {},
   "outputs": [],
   "source": [
    "%matplotlib inline\n",
    "import ipywidgets as widgets\n",
    "import numpy as np\n",
    "import matplotlib.pyplot as plt"
   ]
  },
  {
   "cell_type": "markdown",
   "metadata": {},
   "source": [
    "## Calculate wind field using potential flow theory\n",
    "\n",
    "### Set type of flow field\n",
    "Options: ```circle``` and ```oval```"
   ]
  },
  {
   "cell_type": "code",
   "execution_count": 3,
   "metadata": {},
   "outputs": [],
   "source": [
    "flow_type = 'circle' # Defines if hill is cylindrical or oval, options: 'oval' and 'circle'"
   ]
  },
  {
   "cell_type": "markdown",
   "metadata": {},
   "source": [
    "### Set wind speed of flow field (in m/s):"
   ]
  },
  {
   "cell_type": "code",
   "execution_count": 4,
   "metadata": {},
   "outputs": [],
   "source": [
    "U_inf = 10.0 # [m/s] Mean wind speed (negative to have flow flow right to left)"
   ]
  },
  {
   "cell_type": "markdown",
   "metadata": {},
   "source": [
    "### Set hill parameters\n",
    "* R_ridge: Radius of hill (in meters)\n",
    "* surf_rough: surface roughness of hill (in meters)\n",
    "\n",
    "Parameters only for oval shaped hill:\n",
    "* a: defines loci x-position (in meters)\n",
    "* x_stag: defines a-axis of standard oval (in meters)"
   ]
  },
  {
   "cell_type": "code",
   "execution_count": 5,
   "metadata": {},
   "outputs": [],
   "source": [
    "R_ridge = 50.0 # [m] Radius of the hill/ridge\n",
    "surf_rough = 0.01 # m, surface roughness\n",
    "\n",
    "# Oval shaped hill parameters\n",
    "a = 45 # m, defines loci x-position\n",
    "x_stag = 67 # m, defines a-axis of standard oval\n",
    "b = np.sqrt(x_stag**2 - a**2) # calculates b parameter of oval"
   ]
  },
  {
   "cell_type": "markdown",
   "metadata": {},
   "source": [
    "### Potential flow field calculation function\n",
    "Given an x and z coordinate and the mean wind speed it calculates the wind field velocity components using potential flow theory and a logarithmic boundary layer\n",
    "\n",
    "#### Oval hill potential flow equations:\n",
    "\n",
    "Source: 2.25 Advanced Fluid Mechanics MIT Department of Mechanical engineering (https://ocw.mit.edu/courses/mechanical-engineering/2-25-advanced-fluid-mechanics-fall-2013/potential-flow-theory/MIT2_25F13_Solution6.4.pdf)\n",
    "\n",
    "$ x^2 - a^2 - \\frac{m a}{\\pi U_{\\infty}} = 0$ <=>  $ m = \\frac{\\pi U_{\\infty}}{a} (x^2 - a^2)$\n",
    "\n",
    "\n",
    "\n",
    "$v_x = U_{\\infty} + \\frac{m}{2 \\pi} \\left[\\frac{x + a}{(x + a)^2 + y^2} - \\frac{x - a}{(x - a)^2 + y^2}\\right]$\n",
    "\n",
    "$v_y = \\frac{m y}{2 \\pi} \\left[\\frac{1}{(x+a)^2 + y^2} - \\frac{1}{(x - a)^2 + y^2} \\right]$\n",
    "\n",
    "#### Circular hill potential flow equations:\n",
    "Source: http://brennen.caltech.edu/fluidbook/basicfluiddynamics/potentialflow/singularities/cylinder.pdf\n",
    "\n",
    "$u_r = \\left[1 - \\frac{R^2}{r^2}\\right] U_{\\infty} \\cos{\\theta}$\n",
    "\n",
    "$u_{\\theta} = -\\left[1 + \\frac{R^2}{r^2}\\right] U_{\\infty} \\sin{\\theta}$\n",
    "\n",
    "Transform polar velocities into cartesian velocities:\n",
    "\n",
    "$u_x = \\cos{\\theta} \\cdot u_r - \\sin{\\theta} \\cdot u_{\\theta}$\n",
    "\n",
    "$u_z = \\sin{\\theta} \\cdot u_r + \\cos{\\theta} \\cdot u_{\\theta}$\n",
    "\n",
    "#### Boundary layer wall function:\n",
    "Source: https://en.wikipedia.org/wiki/Log_wind_profile#cite_note-Holmes2015-2\n",
    "\n",
    " $u({{z}_{2}})=u({{z}_{1}}){\\frac {\\ln \\left(({{z}_{2}}-d)/{{z}_{0}}\\right)}{\\ln \\left(({{z}_{1}}-d)/{{z}_{0}}\\right)}}$"
   ]
  },
  {
   "cell_type": "code",
   "execution_count": 6,
   "metadata": {},
   "outputs": [],
   "source": [
    "def wind_comp(x_i, z_i, U):\n",
    "    ## Wind field calculation function\n",
    "\n",
    "    # Description: Given an x and z coordinate and the mean wind speed it calculates the wind field velocity components\n",
    "    #              using potential flow theory and a logarithmic boundary layer\n",
    "\n",
    "    if flow_type == 'oval':\n",
    "\n",
    "        m = np.pi * U_inf / a * (x_stag ** 2 - a **2)\n",
    "        v_x = U_inf + m / (2 * np.pi) * ((x_i + a) / ((x_i+0.001 + a) ** 2 + z_i ** 2) - (x_i+0.001 - a) / ((x_i+0.001 - a)**2 + z_i**2))\n",
    "        v_z = -(m * z_i) / (2 * np.pi) * (1 / ((x_i+0.001 + a)**2 + z_i**2) - 1 / ((x_i+0.001 - a)**2 + z_i**2))\n",
    "\n",
    "        ellipse_eq = (x_i ** 2) / (x_stag ** 2) + (z_i ** 2) / (b ** 2)\n",
    "        if ellipse_eq < 1:\n",
    "            return 0.0, 0.0\n",
    "\n",
    "        if x_i < x_stag:\n",
    "\n",
    "            z_ellipse = -b / x_stag * np.sqrt(x_stag ** 2 - x_i ** 2)\n",
    "\n",
    "            mult_factor = (np.log(-(z_i - z_ellipse) / surf_rough)) / (np.log(-(-70 - z_ellipse) / surf_rough))\n",
    "            if mult_factor < 0:\n",
    "                print(\"z_ab =\", -(z_i - z_ellipse), \"mult =\", mult_factor)\n",
    "            if not (np.isnan(mult_factor)):\n",
    "                v_x *= mult_factor\n",
    "                v_z *= mult_factor\n",
    "\n",
    "        else:\n",
    "            if z_i < 0:\n",
    "                z_ellipse = -0.01\n",
    "                mult_factor = (np.log(-(z_i - z_ellipse) / surf_rough)) / (np.log(-(-70 - z_ellipse) / surf_rough))\n",
    "                v_x *= mult_factor\n",
    "                v_z *= mult_factor\n",
    "            else:\n",
    "                return 0.0, 0.0\n",
    "        return v_x, v_z\n",
    "\n",
    "    elif flow_type == 'circle':\n",
    "        theta = np.arctan2(-z_i, x_i)\n",
    "        r = np.sqrt(x_i**2 + z_i**2)\n",
    "\n",
    "        global R_ridge\n",
    "        u_r = (1-((R_ridge**2)/(r**2)))*U*np.cos(theta)\n",
    "        u_th = -(1+((R_ridge**2)/(r**2)))*U*np.sin(theta)\n",
    "\n",
    "        if R_ridge**2 - x_i**2 > 0:\n",
    "            z_circle = -np.sqrt(R_ridge**2 - x_i**2)\n",
    "\n",
    "        else:\n",
    "            z_circle = -0.01\n",
    "        mult_factor = (np.log(-(z_i - z_circle) / surf_rough)) / (np.log(-(-70 - z_circle) / surf_rough))\n",
    "        u_x = (np.cos(theta)*u_r - np.sin(theta)*u_th)*mult_factor\n",
    "        u_z = (np.sin(theta)*u_r + np.cos(theta)*u_th)*mult_factor\n",
    "\n",
    "\n",
    "        if r<R_ridge:\n",
    "            return 0.0,0.0\n",
    "\n",
    "        return u_x, u_z"
   ]
  },
  {
   "cell_type": "code",
   "execution_count": 7,
   "metadata": {},
   "outputs": [],
   "source": [
    "vwind_comp = np.vectorize(wind_comp) # Vectorizes the wind comp function so arrays can be parsed and returned by the new\n",
    "                                     # vwind_comp function"
   ]
  },
  {
   "cell_type": "markdown",
   "metadata": {},
   "source": [
    "## Set 2D grid parameters\n",
    "\n",
    "* dx = Grid resolution in x axix\n",
    "* dz = Grid resolution in z axis\n",
    "* x_coords = Array of x coordinates\n",
    "* z_coords = Array of z coordinates"
   ]
  },
  {
   "cell_type": "code",
   "execution_count": 8,
   "metadata": {},
   "outputs": [],
   "source": [
    "## Specify 2D grid resolution [in meters]\n",
    "dx = 1.5\n",
    "dz = -(4.0/3.0)\n",
    "## ======================================\n",
    "\n",
    "## Specify start and stop x & z coordinates:\n",
    "x_start = -100\n",
    "x_stop = 10\n",
    "\n",
    "z_start = 0\n",
    "z_stop = -R_ridge-20+dz+0.1\n",
    "## ==========================================\n",
    "\n",
    "## Create x and z coordinate array\n",
    "x_coords = np.arange(x_start, x_stop, dx) # specifies range of x coords\n",
    "z_coords = np.arange(z_start, z_stop, dz)  # specifies range of z coords\n",
    "## ======================================"
   ]
  },
  {
   "cell_type": "code",
   "execution_count": 9,
   "metadata": {},
   "outputs": [
    {
     "name": "stderr",
     "output_type": "stream",
     "text": [
      "<ipython-input-6-e8174286490e>:51: RuntimeWarning: invalid value encountered in log\n",
      "  mult_factor = (np.log(-(z_i - z_circle) / surf_rough)) / (np.log(-(-70 - z_circle) / surf_rough))\n"
     ]
    }
   ],
   "source": [
    "xs, zs = np.meshgrid(x_coords, z_coords) # create meshgrid to construct wind velocity field\n",
    "\n",
    "Winds_u, Winds_v = vwind_comp(xs, zs, U_inf) # generates 2D matrices with horizontal and vertical wind velocity components\n",
    "\n",
    "Total_wind = np.sqrt(np.power(Winds_u, 2) + np.power(Winds_v, 2)) # generates 2D matrix with total wind velocities"
   ]
  },
  {
   "cell_type": "markdown",
   "metadata": {},
   "source": [
    "## Calculate hill contours\n",
    "\n",
    "* xs_hill = x coordinates hill\n",
    "* zs_hill = z coordinates hill"
   ]
  },
  {
   "cell_type": "code",
   "execution_count": 10,
   "metadata": {},
   "outputs": [],
   "source": [
    "if flow_type == 'circle':\n",
    "    # generates cartesian coordinates where edge of hill is present (for circular shaped hill)\n",
    "    thetas = np.arange(0, np.pi, 0.01)\n",
    "    xs_hill = R_ridge*np.cos(thetas)\n",
    "    zs_hill = -R_ridge*np.sin(thetas)\n",
    "else:\n",
    "    # generates cartesian coordinates where edge of hill is present (for oval shaped hill)\n",
    "    ts = np.arange(0, np.pi, 0.01)\n",
    "    u = np.tan(ts / 2)\n",
    "    xs_hill = x_stag * (1 - u ** 2) / (u ** 2 + 1)\n",
    "    zs_hill = -(2 * b * u) / (u ** 2 + 1)"
   ]
  },
  {
   "cell_type": "markdown",
   "metadata": {},
   "source": [
    "## Plot windfield with hill contour:"
   ]
  },
  {
   "cell_type": "code",
   "execution_count": 23,
   "metadata": {
    "scrolled": false
   },
   "outputs": [
    {
     "data": {
      "text/plain": [
       "Text(0, 0.5, 'z location [m]')"
      ]
     },
     "execution_count": 23,
     "metadata": {},
     "output_type": "execute_result"
    },
    {
     "data": {
      "image/png": "[encoded data removed]",
      "text/plain": [
       "<Figure size 432x288 with 1 Axes>"
      ]
     },
     "metadata": {
      "needs_background": "light"
     },
     "output_type": "display_data"
    }
   ],
   "source": [
    "fig, ax = plt.subplots(1,1) # initialize pyplot figure (1 row, 1 column)\n",
    "ax.invert_yaxis()\n",
    "skip=(slice(None,None,5),slice(None,None,5))\n",
    "ax.plot(xs_hill, zs_hill)\n",
    "qv1 = ax.quiver(xs[skip], zs[skip], Winds_u[skip], Winds_v[skip], Total_wind[skip], cmap='cool') # plots vector field\n",
    "ax.set_xlabel('x location [m]')\n",
    "ax.set_ylabel('z location [m]')"
   ]
  },
  {
   "cell_type": "markdown",
   "metadata": {},
   "source": [
    "## Set UAV Parameters"
   ]
  },
  {
   "cell_type": "code",
   "execution_count": 13,
   "metadata": {
    "scrolled": true
   },
   "outputs": [],
   "source": [
    "m = 1.0 # mass, in kg\n",
    "\n",
    "S = 1 # Wing surface area, in m^2\n",
    "rho = 1.225 # Air density, in kg/m^3\n",
    "g = 9.80665 # gtavitational acceleration, in m/s^2\n",
    "CL_alpha = 5.7 # Lift coefficient slope, in 1/rad\n",
    "alpha_0L = np.deg2rad(-4) # Zero lift angle of attack, in degrees\n",
    "AR = 6 # Aspect ratio\n",
    "e = 0.8 # Oswald efficiency factor\n",
    "CD_0 = 0.05 # Zero-lift drag coefficient\n",
    "\n",
    "# Specific turbine disc area: S_turb_spec = S_turb_disc / S\n",
    "S_turb_spec = 0.1 # 0.006 for smallest point at gridsize of 0.1\n",
    "\n",
    "W = m*g\n",
    "\n",
    "Cdi_coef = 1/(np.pi*AR*e) # 1/pi*A*e\n",
    "\n",
    "#P_maxs = (16/27)*(rho/2)* Total_wind**3 * (np.pi*D_prop**2)/4\n",
    "\n",
    "\n",
    "\n",
    "## Parameters for numerical integration\n",
    "V_a = 25 # initial airspeed for simulated aircraft m/s\n",
    "gamma_a = -10*(np.pi/180) # deg/rad\n",
    "dgamma_dt = 0 # rad/s\n",
    "dt = 0.01 # s\n",
    "t = 0 #s\n",
    "x_i = 17\n",
    "z_i = -5\n",
    "\n"
   ]
  },
  {
   "cell_type": "markdown",
   "metadata": {},
   "source": [
    "## Equilibrium calculation function\n",
    "\n",
    "This function determines if the UAV is theoratically able to statically hover with zero ground speed at each point of the calculated wind field. At each potential hover location, the required additional drag and power needed from the turbine is calculated as well as the angle of attack. \n",
    "\n",
    "$C_{L_{req}} = \\frac{W}{0.5 \\cdot \\rho \\cdot V^2 \\cdot S} \\cdot \\frac{u}{V}$\n",
    "\n",
    "$C_{D_{req}} = \\frac{W}{0.5 \\cdot \\rho \\cdot V^2 \\cdot S} \\cdot \\frac{v}{V}$\n",
    "\n",
    "$C_{D_{min}} = C_{D_0} + \\frac{C_L^2}{\\pi A e}$\n",
    "\n",
    "$C_{D_{max}} = C_{D_{min}} + \\frac{2}{9} \\cdot S_{turb}$\n",
    "\n",
    "$\n",
    "\n"
   ]
  },
  {
   "cell_type": "code",
   "execution_count": 14,
   "metadata": {},
   "outputs": [],
   "source": [
    "def calc_eq():\n",
    "    # This function calculates the \n",
    "    C_L_req = W/(0.5*rho*np.power(Total_wind, 2)*S) * (np.abs(Winds_u)/Total_wind)\n",
    "    C_D_req = W / (0.5 * rho * np.power(Total_wind, 2) * S) * (np.abs(Winds_v) / Total_wind)\n",
    "\n",
    "    #drag_turb_func = get_turbine_params()\n",
    "\n",
    "    C_D_min_ach = CD_0+np.power(C_L_req, 2)*Cdi_coef\n",
    "    C_D_max_ach = C_D_min_ach + 1*(2/9)*S_turb_spec#drag_turb_func(Total_wind)/(0.5* rho * np.power(Total_wind, 2) * S)#1*(2/9)*S_turb_spec\n",
    "\n",
    "    C_D_turb = C_D_req - C_D_min_ach\n",
    "\n",
    "    D_turb = 0.5*rho*np.power(Total_wind, 2)*S*C_D_turb\n",
    "\n",
    "    alpha = C_L_req / CL_alpha + alpha_0L\n",
    "\n",
    "    stall = (alpha > np.deg2rad(15)) & (alpha < np.deg2rad(-10))\n",
    "    print(\"stall condition:\", stall[stall == True])\n",
    "    C_L_req[stall] = np.nan\n",
    "    C_D_req[stall] = np.nan\n",
    "    C_D_min_ach[stall] = np.nan\n",
    "    C_D_max_ach[stall] = np.nan\n",
    "    alpha[stall] = np.nan\n",
    "\n",
    "    eq_points = (C_D_req > C_D_min_ach) & (C_D_req < C_D_max_ach)\n",
    "    P_turb = 0.5*rho*S*np.power(Total_wind, 3)*C_D_turb\n",
    "    P_turb[eq_points == False] = np.nan\n",
    "    alpha[eq_points == False] = np.nan\n",
    "    D_turb[eq_points == False] = np.nan\n",
    "    return P_turb, np.rad2deg(alpha), D_turb"
   ]
  },
  {
   "cell_type": "code",
   "execution_count": 15,
   "metadata": {},
   "outputs": [],
   "source": [
    "def get_local_min_h_dot(V_loc):\n",
    "    min_h_dot = (rho * S * CD_0) / (2 * m * g) * V_loc ** 3 + (2 * m * g * Cdi_coef) / (rho * S * V_loc)\n",
    "    return min_h_dot"
   ]
  },
  {
   "cell_type": "markdown",
   "metadata": {},
   "source": [
    "### Calculate equilibrium positions from windfield"
   ]
  },
  {
   "cell_type": "code",
   "execution_count": 16,
   "metadata": {},
   "outputs": [
    {
     "name": "stdout",
     "output_type": "stream",
     "text": [
      "stall condition: []\n"
     ]
    },
    {
     "name": "stderr",
     "output_type": "stream",
     "text": [
      "<ipython-input-14-42827188c161>:3: RuntimeWarning: divide by zero encountered in true_divide\n",
      "  C_L_req = W/(0.5*rho*np.power(Total_wind, 2)*S) * (np.abs(Winds_u)/Total_wind)\n",
      "<ipython-input-14-42827188c161>:3: RuntimeWarning: invalid value encountered in true_divide\n",
      "  C_L_req = W/(0.5*rho*np.power(Total_wind, 2)*S) * (np.abs(Winds_u)/Total_wind)\n",
      "<ipython-input-14-42827188c161>:4: RuntimeWarning: divide by zero encountered in true_divide\n",
      "  C_D_req = W / (0.5 * rho * np.power(Total_wind, 2) * S) * (np.abs(Winds_v) / Total_wind)\n",
      "<ipython-input-14-42827188c161>:4: RuntimeWarning: invalid value encountered in true_divide\n",
      "  C_D_req = W / (0.5 * rho * np.power(Total_wind, 2) * S) * (np.abs(Winds_v) / Total_wind)\n",
      "<ipython-input-14-42827188c161>:17: RuntimeWarning: invalid value encountered in greater\n",
      "  stall = (alpha > np.deg2rad(15)) & (alpha < np.deg2rad(-10))\n",
      "<ipython-input-14-42827188c161>:17: RuntimeWarning: invalid value encountered in less\n",
      "  stall = (alpha > np.deg2rad(15)) & (alpha < np.deg2rad(-10))\n",
      "<ipython-input-14-42827188c161>:25: RuntimeWarning: invalid value encountered in greater\n",
      "  eq_points = (C_D_req > C_D_min_ach) & (C_D_req < C_D_max_ach)\n",
      "<ipython-input-14-42827188c161>:25: RuntimeWarning: invalid value encountered in less\n",
      "  eq_points = (C_D_req > C_D_min_ach) & (C_D_req < C_D_max_ach)\n"
     ]
    }
   ],
   "source": [
    "P_turbs, alphas_eq, D_turb = calc_eq()"
   ]
  },
  {
   "cell_type": "code",
   "execution_count": 17,
   "metadata": {},
   "outputs": [
    {
     "data": {
      "image/png": "[encoded data removed]",
      "text/plain": [
       "<Figure size 432x288 with 1 Axes>"
      ]
     },
     "metadata": {
      "needs_background": "light"
     },
     "output_type": "display_data"
    }
   ],
   "source": []
  },
  {
   "cell_type": "code",
   "execution_count": 18,
   "metadata": {},
   "outputs": [
    {
     "name": "stdout",
     "output_type": "stream",
     "text": [
      "max P_turb: 18.949256864514787\n",
      "[[nan nan nan ... -- -- --]\n",
      " [-- -- -- ... -- -- --]\n",
      " [-- -- -- ... -- -- --]\n",
      " ...\n",
      " [-- -- -- ... -- -- --]\n",
      " [-- -- -- ... -- -- --]\n",
      " [-- -- -- ... -- -- --]]\n"
     ]
    },
    {
     "name": "stderr",
     "output_type": "stream",
     "text": [
      "<ipython-input-15-fc4af3330426>:2: RuntimeWarning: divide by zero encountered in true_divide\n",
      "  min_h_dot = (rho * S * CD_0) / (2 * m * g) * V_loc ** 3 + (2 * m * g * Cdi_coef) / (rho * S * V_loc)\n",
      "<ipython-input-18-37da7d75e652>:1: RuntimeWarning: invalid value encountered in less_equal\n",
      "  P_turbs = np.ma.masked_where(Winds_v <= get_local_min_h_dot(Total_wind), P_turbs) # changed to P_maxs\n",
      "<ipython-input-18-37da7d75e652>:5: RuntimeWarning: invalid value encountered in less_equal\n",
      "  D_turbs = np.ma.masked_where(Winds_v <= get_local_min_h_dot(Total_wind), D_turb)\n"
     ]
    }
   ],
   "source": [
    "P_turbs = np.ma.masked_where(Winds_v <= get_local_min_h_dot(Total_wind), P_turbs) # changed to P_maxs\n",
    "P_turb_max = np.nanmax(P_turbs)\n",
    "print(\"max P_turb:\", P_turb_max)\n",
    "#5 * round(P_turb_max/5)+0.1\n",
    "D_turbs = np.ma.masked_where(Winds_v <= get_local_min_h_dot(Total_wind), D_turb)\n",
    "print(P_turbs)"
   ]
  },
  {
   "cell_type": "code",
   "execution_count": 25,
   "metadata": {},
   "outputs": [
    {
     "data": {
      "text/plain": [
       "Text(0, 0.5, 'z location [m]')"
      ]
     },
     "execution_count": 25,
     "metadata": {},
     "output_type": "execute_result"
    },
    {
     "data": {
      "image/png": "[encoded data removed]",
      "text/plain": [
       "<Figure size 432x288 with 1 Axes>"
      ]
     },
     "metadata": {
      "needs_background": "light"
     },
     "output_type": "display_data"
    }
   ],
   "source": [
    "fig2, ax2 = plt.subplots(1,1) # initialize pyplot figure (1 row, 1 column)\n",
    "ax2.invert_yaxis()\n",
    "ax2.set_xlim([-100, 10])\n",
    "ax2.set_ylim([0,-100])\n",
    "colormap_levels = np.arange(0, 1000, 10)\n",
    "ax2.plot(xs_hill, zs_hill)\n",
    "cp = ax2.contourf(xs, zs, P_turbs, colormap_levels, cmap='Reds')#locator=ticker.LogLocator(subs=0.5), cmap='Reds')\n",
    "ax2.set_xlabel('x location [m]')\n",
    "ax2.set_ylabel('z location [m]')"
   ]
  },
  {
   "cell_type": "code",
   "execution_count": null,
   "metadata": {},
   "outputs": [],
   "source": []
  }
 ],
 "metadata": {
  "kernelspec": {
   "display_name": "Python 3",
   "language": "python",
   "name": "python3"
  },
  "language_info": {
   "codemirror_mode": {
    "name": "ipython",
    "version": 3
   },
   "file_extension": ".py",
   "mimetype": "text/x-python",
   "name": "python",
   "nbconvert_exporter": "python",
   "pygments_lexer": "ipython3",
   "version": "3.8.3"
  }
 },
 "nbformat": 4,
 "nbformat_minor": 4
}
